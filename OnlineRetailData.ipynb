{
 "cells": [
  {
   "cell_type": "code",
   "execution_count": 1,
   "id": "85eb8f17",
   "metadata": {},
   "outputs": [],
   "source": [
    "import numpy as np\n",
    "import pandas as pd\n",
    "import matplotlib.pyplot as plt"
   ]
  },
  {
   "cell_type": "code",
   "execution_count": 2,
   "id": "d0711481",
   "metadata": {},
   "outputs": [],
   "source": [
    "retail = pd.read_excel('OnlineRetail.xlsx')"
   ]
  },
  {
   "cell_type": "code",
   "execution_count": 3,
   "id": "f86944ea",
   "metadata": {},
   "outputs": [
    {
     "data": {
      "text/plain": [
       "5268"
      ]
     },
     "execution_count": 3,
     "metadata": {},
     "output_type": "execute_result"
    }
   ],
   "source": [
    "retail.duplicated().sum()"
   ]
  },
  {
   "cell_type": "code",
   "execution_count": 4,
   "id": "7d59ebd9",
   "metadata": {},
   "outputs": [],
   "source": [
    "retail = retail.drop_duplicates()"
   ]
  },
  {
   "cell_type": "code",
   "execution_count": 5,
   "id": "44bf1681",
   "metadata": {},
   "outputs": [
    {
     "data": {
      "text/plain": [
       "True"
      ]
     },
     "execution_count": 5,
     "metadata": {},
     "output_type": "execute_result"
    }
   ],
   "source": [
    "any(retail['CustomerID'].isnull())"
   ]
  },
  {
   "cell_type": "code",
   "execution_count": 6,
   "id": "b97a437f",
   "metadata": {},
   "outputs": [],
   "source": [
    "retail.dropna(subset=['CustomerID'], inplace=True)"
   ]
  },
  {
   "cell_type": "code",
   "execution_count": 7,
   "id": "c08eb016",
   "metadata": {},
   "outputs": [],
   "source": [
    "retail['CustomerID'] = retail['CustomerID'].astype(str).str.rstrip(',0').str.rstrip('.')\n",
    "retail['StockCode'] = retail['StockCode'].astype(str).str.rstrip(',0')"
   ]
  },
  {
   "cell_type": "code",
   "execution_count": 8,
   "id": "51822a07",
   "metadata": {},
   "outputs": [],
   "source": [
    "retail.rename(columns={'CustomerID':'user_code', 'StockCode':'product_id','Description':'product_name'}, inplace=True)"
   ]
  },
  {
   "cell_type": "code",
   "execution_count": 9,
   "id": "8b5fb657",
   "metadata": {},
   "outputs": [
    {
     "data": {
      "text/html": [
       "<div>\n",
       "<style scoped>\n",
       "    .dataframe tbody tr th:only-of-type {\n",
       "        vertical-align: middle;\n",
       "    }\n",
       "\n",
       "    .dataframe tbody tr th {\n",
       "        vertical-align: top;\n",
       "    }\n",
       "\n",
       "    .dataframe thead th {\n",
       "        text-align: right;\n",
       "    }\n",
       "</style>\n",
       "<table border=\"1\" class=\"dataframe\">\n",
       "  <thead>\n",
       "    <tr style=\"text-align: right;\">\n",
       "      <th></th>\n",
       "      <th>Quantity</th>\n",
       "      <th>UnitPrice</th>\n",
       "    </tr>\n",
       "  </thead>\n",
       "  <tbody>\n",
       "    <tr>\n",
       "      <th>count</th>\n",
       "      <td>401604.000000</td>\n",
       "      <td>401604.000000</td>\n",
       "    </tr>\n",
       "    <tr>\n",
       "      <th>mean</th>\n",
       "      <td>12.183273</td>\n",
       "      <td>3.474064</td>\n",
       "    </tr>\n",
       "    <tr>\n",
       "      <th>std</th>\n",
       "      <td>250.283037</td>\n",
       "      <td>69.764035</td>\n",
       "    </tr>\n",
       "    <tr>\n",
       "      <th>min</th>\n",
       "      <td>-80995.000000</td>\n",
       "      <td>0.000000</td>\n",
       "    </tr>\n",
       "    <tr>\n",
       "      <th>25%</th>\n",
       "      <td>2.000000</td>\n",
       "      <td>1.250000</td>\n",
       "    </tr>\n",
       "    <tr>\n",
       "      <th>50%</th>\n",
       "      <td>5.000000</td>\n",
       "      <td>1.950000</td>\n",
       "    </tr>\n",
       "    <tr>\n",
       "      <th>75%</th>\n",
       "      <td>12.000000</td>\n",
       "      <td>3.750000</td>\n",
       "    </tr>\n",
       "    <tr>\n",
       "      <th>max</th>\n",
       "      <td>80995.000000</td>\n",
       "      <td>38970.000000</td>\n",
       "    </tr>\n",
       "  </tbody>\n",
       "</table>\n",
       "</div>"
      ],
      "text/plain": [
       "            Quantity      UnitPrice\n",
       "count  401604.000000  401604.000000\n",
       "mean       12.183273       3.474064\n",
       "std       250.283037      69.764035\n",
       "min    -80995.000000       0.000000\n",
       "25%         2.000000       1.250000\n",
       "50%         5.000000       1.950000\n",
       "75%        12.000000       3.750000\n",
       "max     80995.000000   38970.000000"
      ]
     },
     "execution_count": 9,
     "metadata": {},
     "output_type": "execute_result"
    }
   ],
   "source": [
    "retail.describe()"
   ]
  },
  {
   "cell_type": "code",
   "execution_count": 10,
   "id": "3ba7a061",
   "metadata": {},
   "outputs": [],
   "source": [
    "indexretail = retail[(retail['Country'] != 'United Kingdom') | (retail['InvoiceDate'].dt.year != 2011)].index\n",
    "retail.drop(indexretail, inplace=True)"
   ]
  },
  {
   "cell_type": "code",
   "execution_count": 11,
   "id": "6412b52a",
   "metadata": {},
   "outputs": [],
   "source": [
    "user_product_dic = retail.groupby('user_code')['product_id'].apply(set).to_dict()"
   ]
  },
  {
   "cell_type": "code",
   "execution_count": 12,
   "id": "5bb4fd4e",
   "metadata": {},
   "outputs": [],
   "source": [
    "product_user_dic = retail.groupby('product_id')['user_code'].apply(set).to_dict()"
   ]
  },
  {
   "cell_type": "code",
   "execution_count": 13,
   "id": "1195103e",
   "metadata": {},
   "outputs": [],
   "source": [
    "product_id_name_dic = dict(zip(retail['product_id'],retail['product_name']))"
   ]
  },
  {
   "cell_type": "markdown",
   "id": "de0ac414",
   "metadata": {},
   "source": [
    "#数据结构全部填满"
   ]
  },
  {
   "cell_type": "code",
   "execution_count": 14,
   "id": "2e78d852",
   "metadata": {},
   "outputs": [],
   "source": [
    "product_per_user_li = [len(x) for x in user_product_dic.values()]"
   ]
  },
  {
   "cell_type": "code",
   "execution_count": 15,
   "id": "af5817fb",
   "metadata": {},
   "outputs": [
    {
     "name": "stdout",
     "output_type": "stream",
     "text": [
      "# of users: 3835\n",
      "# of products: 3588\n"
     ]
    }
   ],
   "source": [
    "print('# of users:', len(user_product_dic))\n",
    "print('# of products:', len(product_user_dic))"
   ]
  },
  {
   "cell_type": "code",
   "execution_count": 16,
   "id": "4b47c77f",
   "metadata": {},
   "outputs": [],
   "source": [
    "from scipy import stats"
   ]
  },
  {
   "cell_type": "code",
   "execution_count": 17,
   "id": "f6b94009",
   "metadata": {},
   "outputs": [
    {
     "name": "stdout",
     "output_type": "stream",
     "text": [
      "DescribeResult(nobs=3835, minmax=(1, 1603), mean=58.69074315514993, variance=6207.108821435057, skewness=5.8338167234043965, kurtosis=72.60364097540139)\n"
     ]
    }
   ],
   "source": [
    "print(stats.describe(product_per_user_li))"
   ]
  },
  {
   "cell_type": "code",
   "execution_count": 18,
   "id": "df979218",
   "metadata": {},
   "outputs": [
    {
     "data": {
      "text/plain": [
       "[1, 39, 1603, 160, 55, 6, 41, 1, 25, 57]"
      ]
     },
     "execution_count": 18,
     "metadata": {},
     "output_type": "execute_result"
    }
   ],
   "source": [
    "product_per_user_li[:10]"
   ]
  },
  {
   "cell_type": "code",
   "execution_count": 19,
   "id": "081f0edd",
   "metadata": {},
   "outputs": [],
   "source": [
    "from collections import Counter"
   ]
  },
  {
   "cell_type": "code",
   "execution_count": 20,
   "id": "b15bee76",
   "metadata": {},
   "outputs": [],
   "source": [
    "plot_data_all = Counter(product_per_user_li)"
   ]
  },
  {
   "cell_type": "code",
   "execution_count": 21,
   "id": "be8fdfa7",
   "metadata": {},
   "outputs": [],
   "source": [
    "plot_data_x = list(plot_data_all.keys())\n",
    "plot_data_y = list(plot_data_all.values())"
   ]
  },
  {
   "cell_type": "code",
   "execution_count": 22,
   "id": "a7aa48e1",
   "metadata": {},
   "outputs": [
    {
     "data": {
      "image/png": "[encoded data removed]",
      "text/plain": [
       "<Figure size 640x480 with 1 Axes>"
      ]
     },
     "metadata": {},
     "output_type": "display_data"
    }
   ],
   "source": [
    "plt.rcParams['font.family'] ='SimHei'\n",
    "plt.scatter(plot_data_x, plot_data_y, marker='+')\n",
    "plt.xlabel('产品种数')\n",
    "plt.ylabel('用户数')\n",
    "plt.show()"
   ]
  },
  {
   "cell_type": "code",
   "execution_count": 23,
   "id": "edae66d8",
   "metadata": {},
   "outputs": [
    {
     "name": "stdout",
     "output_type": "stream",
     "text": [
      "# of users purchased one product: 95\n",
      "# of users purchased more than 600 products: 7\n"
     ]
    }
   ],
   "source": [
    "#排除异常购买模式的用户\n",
    "min_product_user_li = [k for k,v in user_product_dic.items() if len(v)==1]\n",
    "max_product_user_li = [k for k,v in user_product_dic.items() if len(v)>=600]\n",
    "\n",
    "print('# of users purchased one product: %d' %(len(min_product_user_li)))\n",
    "print('# of users purchased more than 600 products: %d' %(len(max_product_user_li)))"
   ]
  },
  {
   "cell_type": "code",
   "execution_count": 24,
   "id": "e5fd7a27",
   "metadata": {},
   "outputs": [
    {
     "name": "stdout",
     "output_type": "stream",
     "text": [
      "# of left users: 3733\n"
     ]
    }
   ],
   "source": [
    "user_product_dic = {k:v for k,v in user_product_dic.items() if len(v) >1 and len(v) < 600}\n",
    "print('# of left users: %d' %(len(user_product_dic)))"
   ]
  },
  {
   "cell_type": "code",
   "execution_count": 25,
   "id": "a3181c5e",
   "metadata": {},
   "outputs": [
    {
     "name": "stdout",
     "output_type": "stream",
     "text": [
      "# of left items:3568\n"
     ]
    }
   ],
   "source": [
    "id_product_dic = {}\n",
    "for product_set_li in user_product_dic.values():\n",
    "    for x in product_set_li:\n",
    "        if x in id_product_dic:\n",
    "            product_id = id_product_dic[x]\n",
    "        else:\n",
    "            id_product_dic.setdefault(x, len(id_product_dic))\n",
    "print('# of left items:%d' %(len(id_product_dic)))"
   ]
  },
  {
   "cell_type": "code",
   "execution_count": 26,
   "id": "baa6dfd7",
   "metadata": {},
   "outputs": [],
   "source": [
    "#用户ID引用字典\n",
    "id_user_dic = {}\n",
    "#用作聚类输入的列表\n",
    "user_product_vec_li = []\n",
    "#聚类中使用的产品总种数，即转换为独热编码的特征种数\n",
    "all_product_count=len(id_product_dic)\n",
    "\n",
    "for user_code, product_per_user_set in user_product_dic.items():\n",
    "    #生成长度为产品种类的列表\n",
    "    user_product_vec = [0] * all_product_count\n",
    "    #利用id_user_dic的长度，将用户ID转换为从0开始的user_id\n",
    "    id_user_dic[len(id_user_dic)] = user_code\n",
    "    for product_name in product_per_user_set:\n",
    "        user_product_vec[id_product_dic[product_name]] = 1\n",
    "    user_product_vec_li.append(user_product_vec)"
   ]
  },
  {
   "cell_type": "code",
   "execution_count": 27,
   "id": "18382722",
   "metadata": {},
   "outputs": [
    {
     "name": "stdout",
     "output_type": "stream",
     "text": [
      "12747\n"
     ]
    }
   ],
   "source": [
    "print(id_user_dic[0])"
   ]
  },
  {
   "cell_type": "code",
   "execution_count": 28,
   "id": "41934635",
   "metadata": {},
   "outputs": [
    {
     "name": "stdout",
     "output_type": "stream",
     "text": [
      "{'48194', '22795', '22606', '85099B', '22607', '82494L', '85123A', '85099C', '22427', '85099F', '2212', '48138', '22429', '71459', '232', '22411', '22469', '82486', '22386', '2243', '23201', '23521', '48173C', '82482', '22425', '21745', '23199', '23581', '21929', '22424', '20711', '82484', '85062', '23522', '21754', '22605', '22763', '84879', '21136'}\n"
     ]
    }
   ],
   "source": [
    "print(user_product_dic['12747'])"
   ]
  },
  {
   "cell_type": "code",
   "execution_count": 29,
   "id": "b21da90c",
   "metadata": {},
   "outputs": [],
   "source": [
    "#print(user_product_vec_li[0])"
   ]
  },
  {
   "cell_type": "code",
   "execution_count": 30,
   "id": "afa726df",
   "metadata": {},
   "outputs": [
    {
     "name": "stdout",
     "output_type": "stream",
     "text": [
      "3568\n"
     ]
    }
   ],
   "source": [
    "print(len(user_product_vec_li[0]))"
   ]
  },
  {
   "cell_type": "code",
   "execution_count": 31,
   "id": "8f77e4d7",
   "metadata": {},
   "outputs": [],
   "source": [
    "from sklearn import cluster"
   ]
  },
  {
   "cell_type": "code",
   "execution_count": 32,
   "id": "0e8a206e",
   "metadata": {},
   "outputs": [],
   "source": [
    "np.random.shuffle(user_product_vec_li)"
   ]
  },
  {
   "cell_type": "code",
   "execution_count": 33,
   "id": "a0a26e7c",
   "metadata": {},
   "outputs": [
    {
     "name": "stdout",
     "output_type": "stream",
     "text": [
      "# of train data:2500, # of test data 1233\n"
     ]
    }
   ],
   "source": [
    "train_data=user_product_vec_li[:2500]\n",
    "test_data=user_product_vec_li[2500:]\n",
    "print('# of train data:%d, # of test data %d' %(len(train_data),len(test_data)))"
   ]
  },
  {
   "cell_type": "code",
   "execution_count": 34,
   "id": "e8034d00",
   "metadata": {},
   "outputs": [
    {
     "name": "stdout",
     "output_type": "stream",
     "text": [
      "[1 1 1 ... 1 1 1]\n"
     ]
    }
   ],
   "source": [
    "km_predict = cluster.KMeans(n_clusters=4, init='k-means++', n_init=10, max_iter=20).fit(train_data)\n",
    "km_predict_result = km_predict.predict(test_data)\n",
    "print(km_predict_result)"
   ]
  },
  {
   "cell_type": "code",
   "execution_count": 35,
   "id": "eb587cf5",
   "metadata": {},
   "outputs": [],
   "source": [
    "#正确确定族数K\n",
    "#定量分析"
   ]
  },
  {
   "cell_type": "code",
   "execution_count": 41,
   "id": "4c2e3323",
   "metadata": {},
   "outputs": [
    {
     "name": "stdout",
     "output_type": "stream",
     "text": [
      "score for 2 clusters: 0.345\n",
      "score for 3 clusters: 0.345\n",
      "score for 4 clusters: 0.227\n",
      "score for 5 clusters: 0.183\n",
      "score for 6 clusters: 0.192\n",
      "score for 7 clusters: 0.202\n",
      "score for 8 clusters: 0.207\n"
     ]
    }
   ],
   "source": [
    "#sihouette coefficient\n",
    "from sklearn.metrics import silhouette_score\n",
    "test_data = np.array(user_product_vec_li)\n",
    "for k in range(2,9):\n",
    "    km = cluster.KMeans(n_clusters=k).fit(test_data)\n",
    "    print('score for %d clusters: %.3f' %(k, silhouette_score(test_data, km.labels_)))\n"
   ]
  },
  {
   "cell_type": "code",
   "execution_count": 43,
   "id": "103b9d1c",
   "metadata": {},
   "outputs": [
    {
     "data": {
      "image/png": "[encoded data removed]",
      "text/plain": [
       "<Figure size 640x480 with 1 Axes>"
      ]
     },
     "metadata": {},
     "output_type": "display_data"
    }
   ],
   "source": [
    "#肘部法则\n",
    "ssw_dict = {}\n",
    "for k in range(1,8):\n",
    "    km = cluster.KMeans(n_clusters=k).fit(test_data)\n",
    "    ssw_dict[k] = km.inertia_\n",
    "\n",
    "plt.plot(ssw_dict.keys(),ssw_dict.values(),linestyle='-', marker='o')\n",
    "plt.xlabel('# of clusters')\n",
    "plt.ylabel('within ss')\n",
    "plt.show()"
   ]
  },
  {
   "cell_type": "code",
   "execution_count": 45,
   "id": "fd6f6362",
   "metadata": {},
   "outputs": [],
   "source": [
    "#正确确定族数K\n",
    "#定性分析"
   ]
  },
  {
   "cell_type": "code",
   "execution_count": 61,
   "id": "21fd3177",
   "metadata": {},
   "outputs": [],
   "source": [
    "#求族内用户所购产品关键词\n",
    "def analyze_clusters_keywords(labels, product_id_name_dic, user_product_dic, id_user_dic):\n",
    "    #输出各族ID与族内用户数\n",
    "    print(Counter(labels))\n",
    "    cluster_item ={}\n",
    "    for i in range(len(labels)):\n",
    "        cluster_item.setdefault(labels[i],[])\n",
    "\n",
    "        for x in user_product_dic[id_user_dic[i]]:\n",
    "            cluster_item[labels[i]].extend([product_id_name_dic[x]])\n",
    "    \n",
    "    '''\n",
    "    for cluster_id, product_name in cluster_item.items():\n",
    "        product_name_keyword = (' ').join(product_name).split()\n",
    "        \n",
    "        print('cluster_id:', cluster_id)\n",
    "        print(Counter(product_name_keyword).most_common(20))'''\n",
    "    for cluster_id, product_name in cluster_item.items():\n",
    "        biggram=[]\n",
    "        product_name_keyword = (' ').join(product_name).replace('OF','').split()\n",
    "        for i in range(len(product_name_keyword)-1):\n",
    "            biggram.append(' '.join(product_name_keyword[i:i+2]))\n",
    "        \n",
    "        print('cluster_id',cluster_id)\n",
    "        print(Counter(biggram).most_common(20))"
   ]
  },
  {
   "cell_type": "code",
   "execution_count": 62,
   "id": "5b9754e2",
   "metadata": {},
   "outputs": [
    {
     "name": "stdout",
     "output_type": "stream",
     "text": [
      "Counter({1: 3202, 0: 531})\n",
      "cluster_id 1\n",
      "[('RED RETROSPOT', 5558), ('JUMBO BAG', 4644), ('METAL SIGN', 4166), ('LUNCH BAG', 3997), ('T-LIGHT HOLDER', 3961), ('HOT WATER', 3221), ('WATER BOTTLE', 3221), ('SET 3', 3169), ('CAKE CASES', 3046), ('VINTAGE CHRISTMAS', 2908), ('SET 6', 2444), ('DOLLY GIRL', 2163), ('BAG VINTAGE', 2083), (\"50'S CHRISTMAS\", 1961), ('SET 4', 1939), ('PACK 12', 1924), ('VINTAGE DOILY', 1915), ('HANGING HEART', 1882), ('HOME SWEET', 1757), ('SWEET HOME', 1757)]\n",
      "cluster_id 0\n",
      "[('RED RETROSPOT', 933), ('JUMBO BAG', 770), ('T-LIGHT HOLDER', 685), ('METAL SIGN', 668), ('LUNCH BAG', 665), ('CAKE CASES', 557), ('VINTAGE CHRISTMAS', 511), ('HOT WATER', 508), ('WATER BOTTLE', 508), ('SET 3', 495), ('DOLLY GIRL', 430), ('SET 6', 414), ('BAG VINTAGE', 368), ('SET 4', 337), ('HANGING HEART', 334), (\"50'S CHRISTMAS\", 333), ('VINTAGE DOILY', 330), ('PACK 12', 312), ('HOME SWEET', 280), ('SWEET HOME', 280)]\n"
     ]
    }
   ],
   "source": [
    "km = cluster.KMeans(n_clusters=2, n_init=10, max_iter=20)\n",
    "km.fit(test_data)\n",
    "analyze_clusters_keywords(km.labels_,product_id_name_dic, user_product_dic, id_user_dic)"
   ]
  },
  {
   "cell_type": "code",
   "execution_count": 63,
   "id": "c41e254c",
   "metadata": {},
   "outputs": [],
   "source": [
    "#求族内用户所购产品种数的平均数\n",
    "def analyse_clusters_product_count(labels, user_product_dic, id_user_dic):\n",
    "    product_len_dic= {}\n",
    "    \n",
    "    for i in range(0,len(labels)): \n",
    "        product_len_dic.setdefault(labels[i],[])\n",
    "        product_len_dic[labels[i]].append(len(user_product_dic[id_user_dic[i]]))\n",
    "        \n",
    "    for k,v in product_len_dic.items():\n",
    "        print('Cluster:', k)\n",
    "        print(stats.describe(v))"
   ]
  },
  {
   "cell_type": "code",
   "execution_count": 64,
   "id": "f03432fa",
   "metadata": {},
   "outputs": [
    {
     "name": "stdout",
     "output_type": "stream",
     "text": [
      "Cluster: 1\n",
      "DescribeResult(nobs=3202, minmax=(2, 542), mean=58.25109306683323, variance=4297.022218423701, skewness=2.5427916582024324, kurtosis=8.697226344109518)\n",
      "Cluster: 0\n",
      "DescribeResult(nobs=531, minmax=(2, 580), mean=59.26741996233522, variance=5236.026464840281, skewness=2.7260983104570458, kurtosis=10.063962843618693)\n"
     ]
    }
   ],
   "source": [
    "analyse_clusters_product_count(km.labels_,user_product_dic,id_user_dic)"
   ]
  }
 ],
 "metadata": {
  "kernelspec": {
   "display_name": "Python 3 (ipykernel)",
   "language": "python",
   "name": "python3"
  },
  "language_info": {
   "codemirror_mode": {
    "name": "ipython",
    "version": 3
   },
   "file_extension": ".py",
   "mimetype": "text/x-python",
   "name": "python",
   "nbconvert_exporter": "python",
   "pygments_lexer": "ipython3",
   "version": "3.9.13"
  }
 },
 "nbformat": 4,
 "nbformat_minor": 5
}
